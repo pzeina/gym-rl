{
 "cells": [
  {
   "cell_type": "code",
   "execution_count": 5,
   "metadata": {},
   "outputs": [
    {
     "name": "stdout",
     "output_type": "stream",
     "text": [
      "  0%|                                                  | 0/1000 [00:00<?, ?it/s]/Users/pzeinaty/Documents/gym-rl/.venv/lib/python3.13/site-packages/gymnasium/spaces/box.py:418: UserWarning: \u001b[33mWARN: Casting input x to numpy array.\u001b[0m\n",
      "  gym.logger.warn(\"Casting input x to numpy array.\")\n",
      "Episode 1/1000 - Average Reward: -233805.20, Average Length: 1070.00\n",
      "  0%|                                        | 1/1000 [00:09<2:36:58,  9.43s/it]Episode 2/1000 - Average Reward: -249131.40, Average Length: 1118.00\n",
      "  0%|                                        | 2/1000 [00:18<2:32:24,  9.16s/it]^C\n"
     ]
    }
   ],
   "source": [
    "!source .venv/bin/activate && python train.py"
   ]
  }
 ],
 "metadata": {
  "kernelspec": {
   "display_name": ".venv",
   "language": "python",
   "name": "python3"
  },
  "language_info": {
   "codemirror_mode": {
    "name": "ipython",
    "version": 3
   },
   "file_extension": ".py",
   "mimetype": "text/x-python",
   "name": "python",
   "nbconvert_exporter": "python",
   "pygments_lexer": "ipython3",
   "version": "3.13.1"
  }
 },
 "nbformat": 4,
 "nbformat_minor": 2
}
